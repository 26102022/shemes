{
 "cells": [
  {
   "cell_type": "code",
   "execution_count": 260,
   "metadata": {},
   "outputs": [],
   "source": [
    "# # #1 вариант\n",
    "x10=90\n",
    "dx1=20\n",
    "x20=1\n",
    "dx2=0.1\n",
    "x30=1.5\n",
    "dx3=0.4\n",
    "x40=0.8\n",
    "dx4=0.3\n",
    "#ряд данных с опечаткой? {120, 218, 117]\n",
    "yy=[73,69,68, 58,58.5,64, 54,59,52, 84,94,92, 100,106,109, 98,90,97, 77,85,78, 105,95,100, 75,78,72, 96,92,94, 88,85,88, 63,65,67, 48,45,47, 51,54,54, 120,118,117, 121,118,115]\n",
    "\n",
    "#19 вариант\n",
    "# # x10=90\n",
    "# # dx1=20\n",
    "# # x20=1\n",
    "# # dx2=0.1\n",
    "# # x30=1.5\n",
    "# # dx3=0.4\n",
    "# # x40=0.8\n",
    "# # dx4=0.3\n",
    "# # yy=[71,67,65,70,78,69,11,13,14,18,15,17,13,16,18,38,40,68,47,45,48,25,28,22,55,48,50,17,35,38,48,40,47,50,56,58,24,28,26,15,16,12,19,18,22,26,23,24]"
   ]
  },
  {
   "cell_type": "code",
   "execution_count": 261,
   "metadata": {},
   "outputs": [
    {
     "name": "stdout",
     "output_type": "stream",
     "text": [
      "[70.0, 60.167, 55.0, 90.0, 105.0, 95.0, 80.0, 100.0, 75.0, 94.0, 87.0, 65.0, 46.667, 53.0, 118.333, 118.0]\n",
      "[73, 69, 68, 58, 58.5, 64, 54, 59, 52, 84, 94, 92, 100, 106, 109, 98, 90, 97, 77, 85, 78, 105, 95, 100, 75, 78, 72, 96, 92, 94, 88, 85, 88, 63, 65, 67, 48, 45, 47, 51, 54, 54, 120, 118, 117, 121, 118, 115]\n"
     ]
    }
   ],
   "source": [
    "x1max=x10+dx1\n",
    "x1min=x10-dx1\n",
    "\n",
    "x2max=x20+dx2\n",
    "x2min=x20-dx2\n",
    "\n",
    "x3max=x10+dx3\n",
    "x3min=x10-dx3\n",
    "\n",
    "x4max=x40+dx4\n",
    "x4min=x40-dx4\n",
    "\n",
    "ymid=[]\n",
    "for i in range(0,len(yy)-2,3):\n",
    "    ymid.append(round((yy[i]+yy[i+1]+yy[i+2])/3,3))\n",
    "print((ymid))\n",
    "print((yy))"
   ]
  },
  {
   "cell_type": "code",
   "execution_count": 262,
   "metadata": {},
   "outputs": [
    {
     "data": {
      "text/plain": [
       "82.01"
      ]
     },
     "execution_count": 262,
     "metadata": {},
     "output_type": "execute_result"
    }
   ],
   "source": [
    "b0=round(sum(ymid)/16,3)\n",
    "b0"
   ]
  },
  {
   "cell_type": "code",
   "execution_count": 263,
   "metadata": {},
   "outputs": [
    {
     "name": "stdout",
     "output_type": "stream",
     "text": [
      "16\n"
     ]
    },
    {
     "data": {
      "text/plain": [
       "[[-1, 1, -1, 1, -1, 1, -1, 1, -1, 1, -1, 1, -1, 1, -1, 1],\n",
       " [-1, -1, 1, 1, -1, -1, 1, 1, -1, -1, 1, 1, -1, -1, 1, 1],\n",
       " [-1, -1, -1, -1, 1, 1, 1, 1, -1, -1, -1, -1, 1, 1, 1, 1],\n",
       " [-1, -1, -1, -1, -1, -1, -1, -1, 1, 1, 1, 1, 1, 1, 1, 1],\n",
       " [1, -1, -1, 1, 1, -1, -1, 1, 1, -1, -1, 1, 1, -1, -1, 1],\n",
       " [1, -1, 1, -1, -1, 1, -1, 1, 1, -1, 1, -1, -1, 1, -1, 1],\n",
       " [1, -1, 1, -1, 1, -1, 1, -1, -1, 1, -1, 1, -1, 1, -1, 1],\n",
       " [1, 1, -1, -1, -1, -1, 1, 1, 1, 1, -1, -1, -1, -1, 1, 1],\n",
       " [1, 1, -1, -1, 1, 1, -1, -1, -1, -1, 1, 1, -1, -1, 1, 1],\n",
       " [1, 1, 1, 1, -1, -1, -1, -1, -1, -1, -1, -1, 1, 1, 1, 1],\n",
       " [-1, 1, 1, -1, 1, -1, -1, 1, -1, 1, 1, -1, 1, -1, -1, 1],\n",
       " [-1, 1, 1, -1, -1, 1, 1, -1, 1, -1, -1, 1, 1, -1, -1, 1],\n",
       " [-1, 1, -1, 1, 1, -1, 1, -1, 1, -1, 1, -1, -1, 1, -1, 1],\n",
       " [-1, -1, 1, 1, 1, 1, -1, -1, 1, 1, -1, -1, -1, -1, 1, 1],\n",
       " [1, -1, -1, 1, -1, 1, 1, -1, -1, 1, 1, -1, 1, -1, -1, 1]]"
      ]
     },
     "execution_count": 263,
     "metadata": {},
     "output_type": "execute_result"
    }
   ],
   "source": [
    "pm1=[[-1,+1,-1,+1,-1,+1,-1,+1,-1,+1,-1,+1,-1,+1,-1,+1],\n",
    "    [-1,-1,+1,+1,-1,-1,+1,+1,-1,-1,+1,+1,-1,-1,+1,+1],\n",
    "    [-1,-1,-1,-1,+1,+1,+1,+1,-1,-1,-1,-1,+1,+1,+1,+1],\n",
    "    [-1,-1,-1,-1,-1,-1,-1,-1,+1,+1,+1,+1,+1,+1,+1,+1],\n",
    "             ]\n",
    "print(len(pm1[0]))\n",
    "pm2=[]\n",
    "for i in range(16):\n",
    "    pm2.append(pm1[0][i]*pm1[1][i])\n",
    "pm1.append(pm2)\n",
    "\n",
    "pm2=[]   \n",
    "for i in range(16):\n",
    "    pm2.append(pm1[0][i]*pm1[2][i])\n",
    "pm1.append(pm2)\n",
    "\n",
    "pm2=[]    \n",
    "for i in range(16):\n",
    "    pm2.append(pm1[0][i]*pm1[3][i])\n",
    "pm1.append(pm2)\n",
    "\n",
    "pm2=[]    \n",
    "for i in range(16):\n",
    "    pm2.append(pm1[1][i]*pm1[2][i])\n",
    "pm1.append(pm2)\n",
    "pm2=[]    \n",
    "for i in range(16):\n",
    "    pm2.append(pm1[1][i]*pm1[3][i])\n",
    "pm1.append(pm2)\n",
    "pm2=[]    \n",
    "for i in range(16):\n",
    "    pm2.append(pm1[2][i]*pm1[3][i])\n",
    "pm1.append(pm2)\n",
    "pm2=[]    \n",
    "for i in range(16):\n",
    "    pm2.append(pm1[0][i]*pm1[1][i]*pm1[2][i])\n",
    "pm1.append(pm2)\n",
    "# print(pm2)\n",
    "# print(mp[10])\n",
    "#тут верно\n",
    "pm2=[]    \n",
    "for i in range(16):\n",
    "    pm2.append(pm1[0][i]*pm1[1][i]*pm1[3][i])\n",
    "pm1.append(pm2)\n",
    "\n",
    "pm2=[]    \n",
    "for i in range(16):\n",
    "    pm2.append(pm1[0][i]*pm1[2][i]*pm1[3][i])\n",
    "pm1.append(pm2)\n",
    "\n",
    "pm2=[]    \n",
    "for i in range(16):\n",
    "    pm2.append(pm1[1][i]*pm1[2][i]*pm1[3][i])\n",
    "pm1.append(pm2)\n",
    "pm2=[]    \n",
    "for i in range(16):\n",
    "    pm2.append(pm1[0][i]*pm1[1][i]*pm1[2][i]*pm1[3][i])\n",
    "pm1.append(pm2)\n",
    "pm1"
   ]
  },
  {
   "cell_type": "code",
   "execution_count": 264,
   "metadata": {},
   "outputs": [
    {
     "name": "stdout",
     "output_type": "stream",
     "text": [
      "10 5\n",
      "10 6\n",
      "10 9\n",
      "10 10\n",
      "10 12\n",
      "11 5\n",
      "11 6\n",
      "11 9\n",
      "11 10\n",
      "11 12\n",
      "12 5\n",
      "12 6\n",
      "12 9\n",
      "12 10\n",
      "12 12\n",
      "13 5\n",
      "13 6\n",
      "13 9\n",
      "13 10\n",
      "13 12\n",
      "[-1, 1, 1, -1, 1, 1, 1, 1, -1, -1, -1, -1, -1, -1, -1, 1]\n",
      "[-1, 1, 1, -1, 1, -1, -1, 1, -1, 1, 1, -1, 1, -1, -1, 1]\n"
     ]
    }
   ],
   "source": [
    "mp=[[-1,1,-1,1,-1,1,-1,1,-1,1,-1,1,-1,1,-1,1],\n",
    "[-1,-1,1,1,-1,-1,1,1,-1,-1,1,1,-1,-1,1,1],\n",
    "[-1,-1,-1,-1,1,1,1,1,-1,-1,-1,-1,1,1,1,1],\n",
    "[-1,-1,-1,-1,-1,-1,-1,-1,1,1,1,1,1,1,1,1],\n",
    "[1,-1,-1,1,1,-1,-1,1,1,-1,-1,1,1,-1,-1,1],\n",
    "[1,-1,1,-1,-1,1,-1,1,1,-1,1,-1,-1,1,-1,1],\n",
    "[1,-1,1,-1,1,-1,1,-1,-1,1,-1,1,-1,1,-1,1],\n",
    "[1,1,-1,-1,-1,-1,1,1,1,1,-1,-1,-1,-1,1,1],\n",
    "[1,1,-1,-1,1,1,-1,-1,-1,-1,1,1,-1,-1,1,1],\n",
    "[1,1,1,1,-1,-1,-1,-1,-1,-1,-1,-1,1,1,1,1],\n",
    "[-1,1,1,-1,1,1,1,1,-1,-1,-1,-1,-1,-1,-1,1],\n",
    "[-1,1,1,-1,-1,-1,-1,-1,1,1,1,1,-1,-1,-1,1],\n",
    "[-1,1,-1,1,1,1,-1,-1,1,1,-1,-1,1,1,-1,1],\n",
    "[-1,-1,1,1,1,-1,1,-1,1,-1,1,-1,1,-1,1,1],\n",
    "[1,-1,-1,1,-1,1,1,-1,-1,1,1,-1,1,-1,-1,1]]\n",
    "a=[]\n",
    "for i in range(len(mp)):\n",
    "    for j in range(len(mp[0])):\n",
    "        if (mp[i][j]-pm1[i][j]) !=0:\n",
    "            print(i,j)\n",
    "print(mp[10])\n",
    "print(pm1[10])\n",
    "# # pm1=mp       \n",
    " #а вот и различие в решениях     "
   ]
  },
  {
   "cell_type": "code",
   "execution_count": 265,
   "metadata": {},
   "outputs": [
    {
     "name": "stdout",
     "output_type": "stream",
     "text": [
      "[2.385, 7.156, 7.49, 0.115, 1.698, -0.385, -2.01, 7.427, 7.802, -5.615, 1.219, -7.656, 1.51, 11.781, 3.073]\n"
     ]
    }
   ],
   "source": [
    "b1=[]\n",
    "for о in range(len(ymid)-1):\n",
    "    sub=[]\n",
    "    for i in range(16):\n",
    "        sub.append(ymid[i]*pm1[о][i])\n",
    "    b1.append(round(sum(sub)/16,3))\n",
    "print(b1)"
   ]
  },
  {
   "cell_type": "code",
   "execution_count": 266,
   "metadata": {},
   "outputs": [
    {
     "data": {
      "text/latex": [
       "$\\displaystyle 2.385 x_{1} + 1.698 x_{12} + 1.219 x_{123} + 3.073 x_{1234} - 7.656 x_{124} - 0.385 x_{13} + 1.51 x_{134} - 2.01 x_{14} + 7.156 x_{2} + 7.427 x_{23} + 11.781 x_{234} + 7.802 x_{24} + 7.49 x_{3} - 5.615 x_{34} + 0.115 x_{4} + 82.01$"
      ],
      "text/plain": [
       "2.385*x1 + 1.698*x12 + 1.219*x123 + 3.073*x1234 - 7.656*x124 - 0.385*x13 + 1.51*x134 - 2.01*x14 + 7.156*x2 + 7.427*x23 + 11.781*x234 + 7.802*x24 + 7.49*x3 - 5.615*x34 + 0.115*x4 + 82.01"
      ]
     },
     "execution_count": 266,
     "metadata": {},
     "output_type": "execute_result"
    }
   ],
   "source": [
    "from sympy import Symbol \n",
    "y=Symbol(\"y\")\n",
    "x1=Symbol(\"x1\")\n",
    "x2=Symbol(\"x2\")\n",
    "x3=Symbol(\"x3\")\n",
    "x4=Symbol(\"x4\")\n",
    "x12=Symbol(\"x12\")\n",
    "x13=Symbol(\"x13\")\n",
    "x14=Symbol(\"x14\")\n",
    "x24=Symbol(\"x24\")\n",
    "x23=Symbol(\"x23\")\n",
    "x34=Symbol(\"x34\")\n",
    "x123=Symbol(\"x123\")\n",
    "x134=Symbol(\"x134\")\n",
    "x124=Symbol(\"x124\")\n",
    "x234=Symbol(\"x234\")\n",
    "x1234=Symbol(\"x1234\")\n",
    "(b0+b1[0]*x1+b1[1]*x2+b1[2]*x3+b1[3]*x4+b1[4]*x12+b1[5]*x13+b1[6]*x14+b1[7]*x23+b1[8]*x24+b1[9]*x34+b1[10]*x123+b1[11]*x124+b1[12]*x134+b1[13]*x234+b1[14]*x1234)\n"
   ]
  },
  {
   "cell_type": "code",
   "execution_count": 267,
   "metadata": {},
   "outputs": [
    {
     "name": "stdout",
     "output_type": "stream",
     "text": [
      "[6.0, 5.167, 5.834, 7.667, 6.5, 8.833, 8.0, 13.0, 13.0, 12.0, 11.0, 8.0, 10.0, 8.0, 12.0, 10.0]\n",
      "[3.0, 1.0, 2.0, 2.167, 1.667, 3.833, 1.0, 4.0, 3.0, 6.0, 4.0, 2.0, 5.0, 1.0, 4.0, 3.0, 5.0, 2.0, 3.0, 5.0, 2.0, 5.0, 5.0, 0.0, 0.0, 3.0, 3.0, 2.0, 2.0, 0.0, 1.0, 2.0, 1.0, 2.0, 0.0, 2.0, 1.333, 1.667, 0.333, 2.0, 1.0, 1.0, 1.667, 0.333, 1.333, 3.0, 0.0, 3.0]\n",
      "[73, 69, 68, 58, 58.5, 64, 54, 59, 52, 84, 94, 92, 100, 106, 109, 98, 90, 97, 77, 85, 78, 105, 95, 100, 75, 78, 72, 96, 92, 94, 88, 85, 88, 63, 65, 67, 48, 45, 47, 51, 54, 54, 120, 118, 117, 121, 118, 115]\n",
      "[70.0, 60.167, 55.0, 90.0, 105.0, 95.0, 80.0, 100.0, 75.0, 94.0, 87.0, 65.0, 46.667, 53.0, 118.333, 118.0]\n"
     ]
    }
   ],
   "source": [
    "s2s=[]\n",
    "aaaa=[]\n",
    "for j in range(len(ymid)):\n",
    "    for u in range(3):\n",
    "        s2s.append(round(abs(yy[3*j+u]-ymid[j]),3))\n",
    "for i in range(16):\n",
    "        aaaa.append(round(s2s[i]+s2s[i+1]+s2s[i+2],3))\n",
    "print(aaaa)\n",
    "print(s2s)\n",
    "print(yy)\n",
    "print(ymid)\n"
   ]
  },
  {
   "cell_type": "code",
   "execution_count": 268,
   "metadata": {},
   "outputs": [
    {
     "name": "stdout",
     "output_type": "stream",
     "text": [
      "[14.0, 22.167, 26.0, 56.0, 42.0, 38.0, 38.0, 50.0, 18.0, 8.0, 6.0, 8.0, 4.667, 6.0, 4.667, 18.0]\n"
     ]
    }
   ],
   "source": [
    "summ=[]\n",
    "for i in range(0,len(s2s),3):\n",
    "    summ.append(round((s2s[i])**2+(s2s[i+1])**2+(s2s[i+2])**2,3))\n",
    "print(summ)\n",
    " "
   ]
  },
  {
   "cell_type": "code",
   "execution_count": 269,
   "metadata": {},
   "outputs": [
    {
     "data": {
      "text/plain": [
       "[7.0,\n",
       " 11.0835,\n",
       " 13.0,\n",
       " 28.0,\n",
       " 21.0,\n",
       " 19.0,\n",
       " 19.0,\n",
       " 25.0,\n",
       " 9.0,\n",
       " 4.0,\n",
       " 3.0,\n",
       " 4.0,\n",
       " 2.3335,\n",
       " 3.0,\n",
       " 2.3335,\n",
       " 9.0]"
      ]
     },
     "execution_count": 269,
     "metadata": {},
     "output_type": "execute_result"
    }
   ],
   "source": [
    "s2=[]\n",
    "for i in range(len(summ)):\n",
    "    s2.append(summ[i]/2)\n",
    "s2"
   ]
  },
  {
   "cell_type": "code",
   "execution_count": 270,
   "metadata": {},
   "outputs": [
    {
     "data": {
      "text/plain": [
       "11.23440625"
      ]
     },
     "execution_count": 270,
     "metadata": {},
     "output_type": "execute_result"
    }
   ],
   "source": [
    "s2_sum=sum(s2)/16\n",
    "s2_sum"
   ]
  },
  {
   "cell_type": "code",
   "execution_count": 271,
   "metadata": {},
   "outputs": [],
   "source": [
    "s2y=s2_sum/3"
   ]
  },
  {
   "cell_type": "code",
   "execution_count": 272,
   "metadata": {},
   "outputs": [
    {
     "data": {
      "text/plain": [
       "3.744802083333333"
      ]
     },
     "execution_count": 272,
     "metadata": {},
     "output_type": "execute_result"
    }
   ],
   "source": [
    "s2y"
   ]
  },
  {
   "cell_type": "code",
   "execution_count": 273,
   "metadata": {},
   "outputs": [
    {
     "name": "stdout",
     "output_type": "stream",
     "text": [
      "0.23405013020833332\n"
     ]
    },
    {
     "data": {
      "text/plain": [
       "0.4837872778487807"
      ]
     },
     "execution_count": 273,
     "metadata": {},
     "output_type": "execute_result"
    }
   ],
   "source": [
    "import math\n",
    "s2b=s2y/16\n",
    "print(s2b)\n",
    "sb=math.sqrt(s2b)\n",
    "sb"
   ]
  },
  {
   "attachments": {
    "image.png": {
     "image/png": "[encoded data removed]"
    }
   },
   "cell_type": "markdown",
   "metadata": {},
   "source": [
    "![image.png](attachment:image.png)"
   ]
  },
  {
   "cell_type": "code",
   "execution_count": 274,
   "metadata": {},
   "outputs": [
    {
     "name": "stdout",
     "output_type": "stream",
     "text": [
      "0.9854746849779662\n",
      "81.02452531502203\n",
      "1.4\n",
      "6.171\n",
      "6.505\n",
      "-0.87\n",
      "0.713\n",
      "-0.6\n",
      "1.025\n",
      "6.442\n",
      "6.817\n",
      "4.63\n",
      "0.234\n",
      "6.671\n",
      "0.525\n",
      "10.796\n",
      "2.088\n",
      "\n",
      "-0.385\n",
      "0.115\n"
     ]
    }
   ],
   "source": [
    "t=2.037\n",
    "print(t*sb)\n",
    "print(b0-t*sb)\n",
    "for i in range(len(b1)):\n",
    "    print(round(abs(b1[i])-t*sb,3))\n",
    "print(\"\")\n",
    "# print(abs(b1[0])-t*sb)\n",
    "# print(abs(b1[4])-t*sb)\n",
    "# print(abs(b1[5])-t*sb)\n",
    "# print(abs(b1[12])-t*sb)\n",
    "\n",
    "print(b1[5])\n",
    "print(b1[3])"
   ]
  },
  {
   "cell_type": "markdown",
   "metadata": {},
   "source": [
    "незначимые коэф b3=-0.385; b5=0.115 \n",
    "\n",
    "Тогда, исключая эти коэф. уравнение регрессии примет вид:"
   ]
  },
  {
   "cell_type": "code",
   "execution_count": 275,
   "metadata": {},
   "outputs": [
    {
     "data": {
      "text/latex": [
       "$\\displaystyle 1.219 x_{1} x_{2} x_{3} + 2.385 x_{1} + 1.698 x_{12} + 3.073 x_{1234} - 7.656 x_{124} + 1.51 x_{134} - 2.01 x_{14} + 7.156 x_{2} + 7.427 x_{23} + 11.781 x_{234} + 7.802 x_{24} + 7.49 x_{3} - 5.615 x_{34} + 82.01$"
      ],
      "text/plain": [
       "1.219*x1*x2*x3 + 2.385*x1 + 1.698*x12 + 3.073*x1234 - 7.656*x124 + 1.51*x134 - 2.01*x14 + 7.156*x2 + 7.427*x23 + 11.781*x234 + 7.802*x24 + 7.49*x3 - 5.615*x34 + 82.01"
      ]
     },
     "execution_count": 275,
     "metadata": {},
     "output_type": "execute_result"
    }
   ],
   "source": [
    "y=b0+b1[0]*x1+b1[1]*x2+b1[2]*x3+b1[4]*x12+b1[6]*x14+b1[7]*x23+b1[8]*x24+b1[9]*x34+b1[10]*x1*x2*x3+b1[11]*x124+b1[12]*x134+b1[13]*x234+b1[14]*x1234\n",
    "y"
   ]
  },
  {
   "cell_type": "code",
   "execution_count": 276,
   "metadata": {},
   "outputs": [],
   "source": [
    "#Кирилл \n",
    "# # # y=[]\n",
    "# # # for i in range(15):\n",
    "# # #     x1=pm1[0][i]\n",
    "# # #     x2=pm1[1][i]\n",
    "# # #     x3=pm1[2][i]\n",
    "# # #     x4=pm1[3][i]\n",
    "# # #     y.append(round(b0+b1[1]*x2+b1[2]*x3+b1[3]*x4+b1[6]*x1*x4+b1[7]*x2*x3+b1[8]*x2*x4+b1[9]*x3*x4+b1[10]*x1*x2*x3+b1[11]*x1*x2*x4+b1[13]*x2*x3*x4+b1[14]*x1*x2*x3*x4,3))\n",
    "# # # 0 4 5 12"
   ]
  },
  {
   "cell_type": "code",
   "execution_count": 277,
   "metadata": {},
   "outputs": [],
   "source": [
    "\n",
    "y=[]\n",
    "for i in range(16):\n",
    "    x1=pm1[0][i]\n",
    "    x2=pm1[1][i]\n",
    "    x3=pm1[2][i]\n",
    "    x4=pm1[3][i]\n",
    "    y.append(round(b0+b1[0]*x1+b1[1]*x2+b1[2]*x3+b1[4]*x1*x2+b1[6]*x1*x4+b1[7]*x2*x3+b1[8]*x2*x4+b1[9]*x3*x4+b1[10]*x1*x2*x3+b1[11]*x1*x2*x4+b1[12]*x1*x3*x4+b1[13]*x2*x3*x4+b1[14]*x1*x2*x3*x4,3))\n"
   ]
  },
  {
   "cell_type": "code",
   "execution_count": 286,
   "metadata": {},
   "outputs": [
    {
     "name": "stdout",
     "output_type": "stream",
     "text": [
      "[70.5, 59.894, 55.5, 89.726, 104.73, 95.5, 79.73, 100.5, 75.27, 93.5, 87.27, 64.5, 46.168, 53.27, 117.832, 118.27]\n",
      "[70.0, 60.167, 55.0, 90.0, 105.0, 95.0, 80.0, 100.0, 75.0, 94.0, 87.0, 65.0, 46.667, 53.0, 118.333, 118.0]\n",
      "[0.5, 0.273, 0.5, 0.274, 0.27, 0.5, 0.27, 0.5, 0.27, 0.5, 0.27, 0.5, 0.499, 0.27, 0.501, 0.27]\n",
      "[0.25, 0.075, 0.25, 0.075, 0.073, 0.25, 0.073, 0.25, 0.073, 0.25, 0.073, 0.25, 0.249, 0.073, 0.251, 0.073]\n"
     ]
    }
   ],
   "source": [
    "print(y)\n",
    "print(ymid)\n",
    "modu=[]\n",
    "modu2=[]\n",
    "for i in range(16):\n",
    "    modu.append(round(abs(ymid[i]-y[i]),3))\n",
    "    modu2.append(round(modu[i]**2,3))\n",
    "print(modu)\n",
    "print(modu2)"
   ]
  },
  {
   "cell_type": "code",
   "execution_count": 287,
   "metadata": {},
   "outputs": [
    {
     "data": {
      "text/plain": [
       "2.588"
      ]
     },
     "execution_count": 287,
     "metadata": {},
     "output_type": "execute_result"
    }
   ],
   "source": [
    "s2ad=sum(modu2)\n",
    "s2ad"
   ]
  },
  {
   "cell_type": "code",
   "execution_count": 280,
   "metadata": {},
   "outputs": [
    {
     "data": {
      "text/plain": [
       "1.2575"
      ]
     },
     "execution_count": 280,
     "metadata": {},
     "output_type": "execute_result"
    }
   ],
   "source": [
    "s2ad2=s2ad/(16-(16-2))\n",
    "s2ad2"
   ]
  },
  {
   "cell_type": "code",
   "execution_count": 281,
   "metadata": {},
   "outputs": [
    {
     "data": {
      "text/plain": [
       "3.744802083333333"
      ]
     },
     "execution_count": 281,
     "metadata": {},
     "output_type": "execute_result"
    }
   ],
   "source": [
    "s2y"
   ]
  },
  {
   "cell_type": "code",
   "execution_count": 282,
   "metadata": {},
   "outputs": [
    {
     "data": {
      "text/plain": [
       "2.9779738237243203"
      ]
     },
     "execution_count": 282,
     "metadata": {},
     "output_type": "execute_result"
    }
   ],
   "source": [
    "F=s2y/s2ad2\n",
    "F"
   ]
  },
  {
   "cell_type": "code",
   "execution_count": 283,
   "metadata": {},
   "outputs": [
    {
     "data": {
      "text/plain": [
       "2"
      ]
     },
     "execution_count": 283,
     "metadata": {},
     "output_type": "execute_result"
    }
   ],
   "source": [
    "(16-(16-2))"
   ]
  },
  {
   "cell_type": "code",
   "execution_count": 284,
   "metadata": {},
   "outputs": [
    {
     "data": {
      "text/plain": [
       "32"
      ]
     },
     "execution_count": 284,
     "metadata": {},
     "output_type": "execute_result"
    }
   ],
   "source": [
    "16*2"
   ]
  },
  {
   "cell_type": "code",
   "execution_count": 285,
   "metadata": {},
   "outputs": [],
   "source": [
    "F=3.295"
   ]
  },
  {
   "cell_type": "code",
   "execution_count": null,
   "metadata": {},
   "outputs": [],
   "source": []
  }
 ],
 "metadata": {
  "kernelspec": {
   "display_name": "Python 3",
   "language": "python",
   "name": "python3"
  },
  "language_info": {
   "codemirror_mode": {
    "name": "ipython",
    "version": 3
   },
   "file_extension": ".py",
   "mimetype": "text/x-python",
   "name": "python",
   "nbconvert_exporter": "python",
   "pygments_lexer": "ipython3",
   "version": "3.12.2"
  }
 },
 "nbformat": 4,
 "nbformat_minor": 2
}
